{
 "cells": [
  {
   "cell_type": "code",
   "execution_count": 2,
   "id": "e9cc8dde",
   "metadata": {},
   "outputs": [],
   "source": [
    "import numpy as np\n",
    "import matplotlib.pyplot as plt\n",
    "import matplotlib as mpl"
   ]
  },
  {
   "cell_type": "code",
   "execution_count": 3,
   "id": "3f6d76dd",
   "metadata": {},
   "outputs": [],
   "source": [
    "def plot(accuracy_per_class, accuracy, color, names):\n",
    "    ind = np.arange(10)\n",
    "    width = 0.5\n",
    "    fig, ax = plt.subplots()\n",
    "    rects = ax.bar(ind, accuracy_per_class, width, color='b')\n",
    "    ax.set_ylabel('Accuracy')\n",
    "    ax.set_title('KNN on %s CIFAR-10 accuracy per class, average accuracy = %f' % (color, accuracy))\n",
    "    ax.set_xticks(ind)\n",
    "    ax.set_xticklabels(names, rotation='vertical')\n",
    "    plt.show()"
   ]
  },
  {
   "cell_type": "code",
   "execution_count": 4,
   "id": "3ebcabe9",
   "metadata": {},
   "outputs": [],
   "source": [
    "def get_accuracy(predict, yte):\n",
    "    accuracy_per_class = [0.] * 10\n",
    "    for i in range(predict.shape[0]):\n",
    "        if predict[i] == yte[i]:\n",
    "            accuracy_per_class[yte[i]] += 1.\n",
    "    for i in range(10):\n",
    "        accuracy_per_class[i] /= 1000.0\n",
    "    accuracy = np.sum(predict == yte) / 10000.0\n",
    "    return accuracy_per_class, accuracy"
   ]
  },
  {
   "cell_type": "code",
   "execution_count": null,
   "id": "3a16b3f6",
   "metadata": {},
   "outputs": [],
   "source": [
    "cifar10_dir ='/home/usr/Downloads/cifar-10-batches-py'\n",
    "             \n",
    "x_train,y_train,x_test,y_test,names = load_CIFAR10(cifar10_dir)\n",
    "\n",
    "\n",
    "x_train = np.reshape(x_train,(x_train.shape[0],-1))\n",
    "x_test = np.reshape(x_test,(x_test.shape[0],-1))\n",
    "\n",
    "# find hyperparameters that work best on the validation set\n",
    "validation_accuracies = []\n",
    "\n",
    "  \n",
    "  # use a particular value of k and evaluation on validation data\n",
    "knn = KNearestNeighbor()\n",
    "knn.train(x_train, y_train)\n",
    "    # here we assume a modified NearestNeighbor class that can take a k as input\n",
    "\n",
    "Yval_predict = knn.predict(x_test)\n",
    "\n",
    "accuracy_per_class, accuracy = get_accuracy(Yval_predict, y_test)\n",
    "\n",
    "plot(accuracy_per_class, accuracy, 'colored', names)\n",
    "#acc = np.mean(Yval_predict[] == y_test[])"
   ]
  }
 ],
 "metadata": {
  "kernelspec": {
   "display_name": "Python 3 (ipykernel)",
   "language": "python",
   "name": "python3"
  },
  "language_info": {
   "codemirror_mode": {
    "name": "ipython",
    "version": 3
   },
   "file_extension": ".py",
   "mimetype": "text/x-python",
   "name": "python",
   "nbconvert_exporter": "python",
   "pygments_lexer": "ipython3",
   "version": "3.9.7"
  }
 },
 "nbformat": 4,
 "nbformat_minor": 5
}
